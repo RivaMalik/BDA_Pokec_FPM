{
  "nbformat": 4,
  "nbformat_minor": 0,
  "metadata": {
    "colab": {
      "name": "feature_selection_and_cleaning.ipynb",
      "provenance": []
    },
    "kernelspec": {
      "name": "python3",
      "display_name": "Python 3"
    },
    "language_info": {
      "name": "python"
    }
  },
  "cells": [
    {
      "cell_type": "code",
      "metadata": {
        "colab": {
          "base_uri": "https://localhost:8080/"
        },
        "id": "1uVMC6OMgFCs",
        "outputId": "31e5e609-5ad9-413f-eeae-883fee0e985b"
      },
      "source": [
        "from google.colab import drive\n",
        "drive.mount('/content/gdrive')"
      ],
      "execution_count": 1,
      "outputs": [
        {
          "output_type": "stream",
          "text": [
            "Mounted at /content/gdrive\n"
          ],
          "name": "stdout"
        }
      ]
    },
    {
      "cell_type": "code",
      "metadata": {
        "colab": {
          "base_uri": "https://localhost:8080/"
        },
        "id": "vr8FK6vngWIp",
        "outputId": "9f360d5f-5b86-407b-ab3e-03b3e5251230"
      },
      "source": [
        "%cd /content/gdrive/My Drive/Classroom/Big Data Analytics - Spring 2021/"
      ],
      "execution_count": 2,
      "outputs": [
        {
          "output_type": "stream",
          "text": [
            "/content/gdrive/My Drive/Classroom/Big Data Analytics - Spring 2021\n"
          ],
          "name": "stdout"
        }
      ]
    },
    {
      "cell_type": "code",
      "metadata": {
        "id": "o3L54vcNgYev"
      },
      "source": [
        "import numpy as np\n",
        "import pandas as pd\n",
        "import re"
      ],
      "execution_count": 3,
      "outputs": []
    },
    {
      "cell_type": "code",
      "metadata": {
        "id": "DQ7HAX2rgbSX"
      },
      "source": [
        "df=pd.read_csv('clean_data.csv')"
      ],
      "execution_count": 4,
      "outputs": []
    },
    {
      "cell_type": "markdown",
      "metadata": {
        "id": "Fod-aWftgxok"
      },
      "source": [
        "Selecting columns region, age, completed_level_of_education"
      ]
    },
    {
      "cell_type": "code",
      "metadata": {
        "id": "mgL4Z-0kgohR"
      },
      "source": [
        "selected_df=df[['region','age','completed_level_of_education']].copy()"
      ],
      "execution_count": 5,
      "outputs": []
    },
    {
      "cell_type": "markdown",
      "metadata": {
        "id": "qin-LKKEiFUc"
      },
      "source": [
        "Filling cells having null/NaN"
      ]
    },
    {
      "cell_type": "code",
      "metadata": {
        "id": "kcZBOPdtiEOS"
      },
      "source": [
        "selected_df.fillna('',inplace=True)"
      ],
      "execution_count": 6,
      "outputs": []
    },
    {
      "cell_type": "markdown",
      "metadata": {
        "id": "IvDE69D1hVMX"
      },
      "source": [
        "# Cleaning feature: completed_level_of_education"
      ]
    },
    {
      "cell_type": "code",
      "metadata": {
        "id": "QFqLKS9fgJv5"
      },
      "source": [
        "string_valid=['zakladne','stredoskolske','vysokoskolske','bakalarske']"
      ],
      "execution_count": 7,
      "outputs": []
    },
    {
      "cell_type": "code",
      "metadata": {
        "id": "PHB6UElGi63m"
      },
      "source": [
        "edu_lvl_col=selected_df.completed_level_of_education"
      ],
      "execution_count": 8,
      "outputs": []
    },
    {
      "cell_type": "markdown",
      "metadata": {
        "id": "QeLt9DGbh44T"
      },
      "source": [
        "Removing stop words and symbols. Creating a list of separate words in string"
      ]
    },
    {
      "cell_type": "code",
      "metadata": {
        "id": "4t5CU2XVhIdA"
      },
      "source": [
        "stop_words=['a','aby','aj','ak','ako','ale','alebo','and','ani','ano','asi','az','ae','aka','ake','bez','bude','budem','budes','budeme',\n",
        "'budete','budu','by','bohuzial','bol','bola','boli','bolo','byt','cez','co','ci','chodit','dalsi','dalsia','dassie','dnes','do','dno','ho','este',\n",
        "'for','i','ja','je','jeho','jej','ich','iba','ine','iny','som','si','sme','su','k','kam','kazdy','kazda','kazde','kazdi',\n",
        "'kde','ked','kto','ktora','ktore \tktorou','ktor','ktori','ku','lebo','len','ma','mat','ma','mate','medzi','mi','mna','mne','musim',\n",
        "'mnou','musiet','moct','moj','my','na','nad','nam','nas','nasi','nie','nech','nez','nic','niektory','nove','novy','nove','novi','o','no','noo',\n",
        "'od','odo','of','on','ono','oni','ony','po','pod','podľa','pokiaľ','potom','prave','pre','preco','preto','pretoze','prvy','prva','prve',\n",
        "'prvi','pred','predo','pri','pyta','s','sa','se','so','si','svoje', 'strasnej',\n",
        "'svoj','svojich','svojim','svojimi','ta','tak','takze','tato','teda','te','te','ten','tento','the','tej',\n",
        "'tieto','tym','tymto','tiez','to','toto','toho','tohoto','tom','tomto','tomuto','toto','tu',\n",
        "'tu','tuto','tvoj','ty','tvojimi','uz','v','vam','vas','vase','vo','viac','vsak','vsetok','vy','vs',\n",
        "'z','za','zo','ze','zatial','d','p','x','xd'\n",
        "]"
      ],
      "execution_count": 9,
      "outputs": []
    },
    {
      "cell_type": "code",
      "metadata": {
        "id": "GGPZPrhuihmP"
      },
      "source": [
        "symbols=r'[ღ.@_!#$%^&*()<>?/\\|}{~:=,;-♥]'"
      ],
      "execution_count": 10,
      "outputs": []
    },
    {
      "cell_type": "code",
      "metadata": {
        "id": "UbE1ETpopEwS"
      },
      "source": [
        "numbers=r'[0-9]+'"
      ],
      "execution_count": 11,
      "outputs": []
    },
    {
      "cell_type": "code",
      "metadata": {
        "id": "nBlIm8FxisE-"
      },
      "source": [
        "def cleanEducationLevel(column):\n",
        "  list_of_words=[]\n",
        "  for str_val in column:\n",
        "    #replacing symbols with blank space\n",
        "    temp=re.sub(symbols,' ',str_val)\n",
        "    temp=re.sub(numbers,'',temp)\n",
        "    #splitting string into separate words based on space\n",
        "    splitted_str=temp.split()\n",
        "    final_list = [word for word in splitted_str if word not in stop_words]\n",
        "    list_of_words.append(\" \".join(final_list) )\n",
        "\n",
        "  return list_of_words"
      ],
      "execution_count": 12,
      "outputs": []
    },
    {
      "cell_type": "markdown",
      "metadata": {
        "id": "Pb_GBMjs_DbW"
      },
      "source": [
        "# Cleaning Feature: age"
      ]
    },
    {
      "cell_type": "markdown",
      "metadata": {
        "id": "hTSoJ7A-_Kin"
      },
      "source": [
        "Converting age into categories"
      ]
    },
    {
      "cell_type": "code",
      "metadata": {
        "id": "SYn4GtYC_KBf"
      },
      "source": [
        "def categorizeAge(column):\n",
        "  list_age_caterogies=[]\n",
        "  for val in column:\n",
        "    if val>=0 and val<=20:\n",
        "      list_age_caterogies.append('0-20')\n",
        "    elif val>20 and val<=40:\n",
        "      list_age_caterogies.append('21-40')\n",
        "    elif val>40 and val<=60:\n",
        "      list_age_caterogies.append('41-60')\n",
        "    elif val>60 and val<=80:\n",
        "      list_age_caterogies.append('61-80')\n",
        "    elif val>80 and val<=100:     \n",
        "      list_age_caterogies.append('81-100')\n",
        " \n",
        "  return list_age_caterogies"
      ],
      "execution_count": 13,
      "outputs": []
    },
    {
      "cell_type": "markdown",
      "metadata": {
        "id": "i_o4krfaAVpo"
      },
      "source": [
        "#Cleaning feature: region"
      ]
    },
    {
      "cell_type": "markdown",
      "metadata": {
        "id": "7p2_WJc9AuIf"
      },
      "source": [
        "Dividing region into administrative regions and districts "
      ]
    },
    {
      "cell_type": "code",
      "metadata": {
        "id": "ehmfHRRrAap2"
      },
      "source": [
        "def divideRegions(column):\n",
        "  regions=[]\n",
        "  admin_region=[]\n",
        "  district=[]\n",
        "  for val in column:\n",
        "    temp=val.split(',')\n",
        "    admin_region.append(temp[0])\n",
        "    district.append(temp[1])\n",
        "    \n",
        "  regions.append(admin_region)\n",
        "  regions.append(district)\n",
        "  return regions"
      ],
      "execution_count": 14,
      "outputs": []
    },
    {
      "cell_type": "markdown",
      "metadata": {
        "id": "fkWvGt3HE9DC"
      },
      "source": [
        "#Creating data frame with selected features"
      ]
    },
    {
      "cell_type": "code",
      "metadata": {
        "id": "SAv2R_MlFBYy"
      },
      "source": [
        "cleaned_age=categorizeAge(selected_df.age)\n",
        "cleaned_education_level= cleanEducationLevel(selected_df.completed_level_of_education)\n",
        "cleaned_regions=divideRegions(selected_df.region)"
      ],
      "execution_count": 15,
      "outputs": []
    },
    {
      "cell_type": "code",
      "metadata": {
        "id": "56_K-bf_E30n"
      },
      "source": [
        "df_final=pd.DataFrame(list(zip(cleaned_regions[0],cleaned_regions[1],cleaned_age,cleaned_education_level)),\n",
        "                      columns=['region','district','age','level_of_education'])"
      ],
      "execution_count": null,
      "outputs": []
    },
    {
      "cell_type": "code",
      "metadata": {
        "id": "6JoIQeVENOnv"
      },
      "source": [
        "df_final.drop(df_final[ (df_final['region'] =='zahranicie') | (df_final['region']=='ceska republika')].index, inplace = True)\n",
        "df_final.drop(df_final[ df_final['level_of_education'] =='' ].index, inplace = True)\n"
      ],
      "execution_count": null,
      "outputs": []
    },
    {
      "cell_type": "code",
      "metadata": {
        "id": "heCD25ZSq0aE"
      },
      "source": [
        "df_final.to_csv(\"selected_data.csv\",index=False)"
      ],
      "execution_count": null,
      "outputs": []
    }
  ]
}